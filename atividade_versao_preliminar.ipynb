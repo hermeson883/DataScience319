{
 "cells": [
  {
   "cell_type": "code",
   "execution_count": 209,
   "metadata": {},
   "outputs": [],
   "source": [
    "from sklearn.datasets import load_iris\n",
    "import pandas as pd\n",
    "import numpy as np\n",
    "import random"
   ]
  },
  {
   "attachments": {},
   "cell_type": "markdown",
   "metadata": {},
   "source": [
    "# "
   ]
  },
  {
   "cell_type": "code",
   "execution_count": 210,
   "metadata": {},
   "outputs": [],
   "source": [
    "numeros = list(range(0, 50))\n",
    "amostra = random.sample(numeros, k=50)\n",
    "\n",
    "train_index = list(np.concatenate((np.array(amostra[:40]), np.array(amostra[:40])+50, np.array(amostra[:40])+100)))\n",
    "test_index = list(np.concatenate((np.array(amostra[40:]), np.array(amostra[40:])+50, np.array(amostra[40:])+100)))"
   ]
  },
  {
   "cell_type": "code",
   "execution_count": null,
   "metadata": {},
   "outputs": [],
   "source": []
  },
  {
   "cell_type": "code",
   "execution_count": 243,
   "metadata": {},
   "outputs": [
    {
     "data": {
      "text/plain": [
       "array(['setosa', 'versicolor', 'virginica'], dtype='<U10')"
      ]
     },
     "execution_count": 243,
     "metadata": {},
     "output_type": "execute_result"
    }
   ],
   "source": [
    "iris = load_iris()\n",
    "iris.target_names"
   ]
  },
  {
   "cell_type": "code",
   "execution_count": 212,
   "metadata": {},
   "outputs": [],
   "source": [
    "\n",
    "\n",
    "#dados de treinamento\n",
    "x_data_train = pd.DataFrame(iris['data'][train_index],columns=iris['feature_names'])\n",
    "x_data_train['target'] = iris['target'][train_index]\n",
    "\n",
    "#dados de teste\n",
    "x_data_test = pd.DataFrame(iris['data'][test_index],columns=iris['feature_names'])\n",
    "x_data_test['target'] = iris['target'][test_index]"
   ]
  },
  {
   "cell_type": "code",
   "execution_count": 250,
   "metadata": {},
   "outputs": [
    {
     "data": {
      "text/html": [
       "<div>\n",
       "<style scoped>\n",
       "    .dataframe tbody tr th:only-of-type {\n",
       "        vertical-align: middle;\n",
       "    }\n",
       "\n",
       "    .dataframe tbody tr th {\n",
       "        vertical-align: top;\n",
       "    }\n",
       "\n",
       "    .dataframe thead th {\n",
       "        text-align: right;\n",
       "    }\n",
       "</style>\n",
       "<table border=\"1\" class=\"dataframe\">\n",
       "  <thead>\n",
       "    <tr style=\"text-align: right;\">\n",
       "      <th></th>\n",
       "      <th>sepal length (cm)</th>\n",
       "      <th>sepal width (cm)</th>\n",
       "      <th>petal length (cm)</th>\n",
       "      <th>petal width (cm)</th>\n",
       "      <th>target</th>\n",
       "    </tr>\n",
       "  </thead>\n",
       "  <tbody>\n",
       "    <tr>\n",
       "      <th>0</th>\n",
       "      <td>5.0</td>\n",
       "      <td>3.5</td>\n",
       "      <td>1.6</td>\n",
       "      <td>0.6</td>\n",
       "      <td>0</td>\n",
       "    </tr>\n",
       "    <tr>\n",
       "      <th>1</th>\n",
       "      <td>4.6</td>\n",
       "      <td>3.4</td>\n",
       "      <td>1.4</td>\n",
       "      <td>0.3</td>\n",
       "      <td>0</td>\n",
       "    </tr>\n",
       "    <tr>\n",
       "      <th>2</th>\n",
       "      <td>4.8</td>\n",
       "      <td>3.0</td>\n",
       "      <td>1.4</td>\n",
       "      <td>0.3</td>\n",
       "      <td>0</td>\n",
       "    </tr>\n",
       "    <tr>\n",
       "      <th>3</th>\n",
       "      <td>5.1</td>\n",
       "      <td>3.5</td>\n",
       "      <td>1.4</td>\n",
       "      <td>0.2</td>\n",
       "      <td>0</td>\n",
       "    </tr>\n",
       "    <tr>\n",
       "      <th>4</th>\n",
       "      <td>4.8</td>\n",
       "      <td>3.4</td>\n",
       "      <td>1.6</td>\n",
       "      <td>0.2</td>\n",
       "      <td>0</td>\n",
       "    </tr>\n",
       "    <tr>\n",
       "      <th>...</th>\n",
       "      <td>...</td>\n",
       "      <td>...</td>\n",
       "      <td>...</td>\n",
       "      <td>...</td>\n",
       "      <td>...</td>\n",
       "    </tr>\n",
       "    <tr>\n",
       "      <th>115</th>\n",
       "      <td>6.3</td>\n",
       "      <td>2.8</td>\n",
       "      <td>5.1</td>\n",
       "      <td>1.5</td>\n",
       "      <td>2</td>\n",
       "    </tr>\n",
       "    <tr>\n",
       "      <th>116</th>\n",
       "      <td>6.7</td>\n",
       "      <td>3.1</td>\n",
       "      <td>5.6</td>\n",
       "      <td>2.4</td>\n",
       "      <td>2</td>\n",
       "    </tr>\n",
       "    <tr>\n",
       "      <th>117</th>\n",
       "      <td>6.9</td>\n",
       "      <td>3.2</td>\n",
       "      <td>5.7</td>\n",
       "      <td>2.3</td>\n",
       "      <td>2</td>\n",
       "    </tr>\n",
       "    <tr>\n",
       "      <th>118</th>\n",
       "      <td>6.7</td>\n",
       "      <td>2.5</td>\n",
       "      <td>5.8</td>\n",
       "      <td>1.8</td>\n",
       "      <td>2</td>\n",
       "    </tr>\n",
       "    <tr>\n",
       "      <th>119</th>\n",
       "      <td>7.2</td>\n",
       "      <td>3.6</td>\n",
       "      <td>6.1</td>\n",
       "      <td>2.5</td>\n",
       "      <td>2</td>\n",
       "    </tr>\n",
       "  </tbody>\n",
       "</table>\n",
       "<p>120 rows × 5 columns</p>\n",
       "</div>"
      ],
      "text/plain": [
       "     sepal length (cm)  sepal width (cm)  petal length (cm)  petal width (cm)  \\\n",
       "0                  5.0               3.5                1.6               0.6   \n",
       "1                  4.6               3.4                1.4               0.3   \n",
       "2                  4.8               3.0                1.4               0.3   \n",
       "3                  5.1               3.5                1.4               0.2   \n",
       "4                  4.8               3.4                1.6               0.2   \n",
       "..                 ...               ...                ...               ...   \n",
       "115                6.3               2.8                5.1               1.5   \n",
       "116                6.7               3.1                5.6               2.4   \n",
       "117                6.9               3.2                5.7               2.3   \n",
       "118                6.7               2.5                5.8               1.8   \n",
       "119                7.2               3.6                6.1               2.5   \n",
       "\n",
       "     target  \n",
       "0         0  \n",
       "1         0  \n",
       "2         0  \n",
       "3         0  \n",
       "4         0  \n",
       "..      ...  \n",
       "115       2  \n",
       "116       2  \n",
       "117       2  \n",
       "118       2  \n",
       "119       2  \n",
       "\n",
       "[120 rows x 5 columns]"
      ]
     },
     "execution_count": 250,
     "metadata": {},
     "output_type": "execute_result"
    }
   ],
   "source": []
  },
  {
   "cell_type": "code",
   "execution_count": 213,
   "metadata": {},
   "outputs": [
    {
     "data": {
      "text/plain": [
       "(30, 120)"
      ]
     },
     "execution_count": 213,
     "metadata": {},
     "output_type": "execute_result"
    }
   ],
   "source": [
    "len(x_data_test),len(x_data_train)"
   ]
  },
  {
   "cell_type": "code",
   "execution_count": 214,
   "metadata": {},
   "outputs": [
    {
     "data": {
      "text/plain": [
       "<AxesSubplot: xlabel='sepal length (cm)', ylabel='petal length (cm)'>"
      ]
     },
     "execution_count": 214,
     "metadata": {},
     "output_type": "execute_result"
    },
    {
     "data": {
      "image/png": "[encoded data removed]",
      "text/plain": [
       "<Figure size 640x480 with 1 Axes>"
      ]
     },
     "metadata": {},
     "output_type": "display_data"
    }
   ],
   "source": [
    "x_new_train = x_data_train.query('target == 0 | target == 1')[['sepal length (cm)', 'petal length (cm)', 'target']]\n",
    "col = x_new_train.target.map({0:'b', 1:'r', 2:'y'})\n",
    "x_new_train.plot.scatter(x='sepal length (cm)',y='petal length (cm)',c=col)"
   ]
  },
  {
   "cell_type": "code",
   "execution_count": 215,
   "metadata": {},
   "outputs": [
    {
     "name": "stdout",
     "output_type": "stream",
     "text": [
      " Acertos = 20 \n",
      " quantidade_total = 20 \n",
      " Acertos/total = 1.0\n"
     ]
    }
   ],
   "source": [
    "def classificador_simples(x):\n",
    "    \"\"\" Faz a classificacao das variedades em setosa ou versicolor\"\"\"\n",
    "    #return 'setosa' if x[0]<2.5 else 'versicolor'\n",
    "    return 0 if x['petal length (cm)'] < 2.5 else 1\n",
    "\n",
    "x_new_test = x_data_test.query('target == 0 | target == 1')[['sepal length (cm)', 'petal length (cm)', 'target']]\n",
    "count_cert = 0\n",
    "for i in range(len(x_new_test)):\n",
    "    class_pred = classificador_simples(x_new_test.iloc[i])\n",
    "    if class_pred == x_new_test.iloc[i].values[2]:\n",
    "        count_cert += 1\n",
    "print(f' Acertos = {count_cert} \\n quantidade_total = {len(x_new_test)} \\n Acertos/total = {count_cert/len(x_new_test)}' )"
   ]
  },
  {
   "cell_type": "code",
   "execution_count": null,
   "metadata": {},
   "outputs": [],
   "source": []
  },
  {
   "cell_type": "code",
   "execution_count": 216,
   "metadata": {},
   "outputs": [
    {
     "data": {
      "text/plain": [
       "<AxesSubplot: xlabel='sepal length (cm)', ylabel='petal length (cm)'>"
      ]
     },
     "execution_count": 216,
     "metadata": {},
     "output_type": "execute_result"
    },
    {
     "data": {
      "image/png": "[encoded data removed]",
      "text/plain": [
       "<Figure size 640x480 with 1 Axes>"
      ]
     },
     "metadata": {},
     "output_type": "display_data"
    }
   ],
   "source": [
    "x_new_train = x_data_train.query('target == 0 | target == 1 | target == 2')[['sepal length (cm)', 'petal length (cm)', 'target']]\n",
    "col = x_new_train.target.map({0:'b', 1:'r', 2:'y'})\n",
    "x_new_train.plot.scatter(x='sepal length (cm)',y='petal length (cm)',c=col)"
   ]
  },
  {
   "cell_type": "code",
   "execution_count": 217,
   "metadata": {},
   "outputs": [
    {
     "name": "stdout",
     "output_type": "stream",
     "text": [
      " Acertos = 29 \n",
      " quantidade_total = 30 \n",
      " Acertos/total = 0.9666666666666667\n"
     ]
    }
   ],
   "source": [
    "def classificador_simples2(x):\n",
    "    \"\"\" Faz a classificacao das variedades em setosa, versicolor e virginica \"\"\"\n",
    "    if x['petal length (cm)'] < 2.5 :\n",
    "        return 0\n",
    "    elif x['petal length (cm)'] > 2.5 and x['petal length (cm)'] < 4.95:\n",
    "        return 1\n",
    "    else:\n",
    "        return 2\n",
    "#Separa só as classes \n",
    "x_new_test = x_data_test.query('target == 0 | target == 1 | target == 2')[['sepal length (cm)', 'petal length (cm)', 'target']]\n",
    "count_cert = 0\n",
    "for i in range(len(x_new_test)):\n",
    "    class_pred = classificador_simples2(x_new_test.iloc[i])\n",
    "    if class_pred == x_new_test.iloc[i].values[2]:\n",
    "        count_cert += 1\n",
    "print(f' Acertos = {count_cert} \\n quantidade_total = {len(x_new_test)} \\n Acertos/total = {count_cert/len(x_new_test)}' )"
   ]
  },
  {
   "cell_type": "code",
   "execution_count": null,
   "metadata": {},
   "outputs": [],
   "source": []
  },
  {
   "cell_type": "code",
   "execution_count": 203,
   "metadata": {},
   "outputs": [
    {
     "data": {
      "text/plain": [
       "<AxesSubplot: xlabel='sepal length (cm)', ylabel='petal length (cm)'>"
      ]
     },
     "execution_count": 203,
     "metadata": {},
     "output_type": "execute_result"
    },
    {
     "data": {
      "image/png": "[encoded data removed]",
      "text/plain": [
       "<Figure size 640x480 with 1 Axes>"
      ]
     },
     "metadata": {},
     "output_type": "display_data"
    }
   ],
   "source": [
    "x_new_train = x_data_test.query('target == 0 | target == 1 | target == 2')[['sepal length (cm)', 'petal length (cm)', 'target']]\n",
    "col = x_new_train.target.map({0:'b', 1:'r', 2:'y'})\n",
    "x_new_train.plot.scatter(x='sepal length (cm)',y='petal length (cm)',c=col)"
   ]
  },
  {
   "cell_type": "code",
   "execution_count": 75,
   "metadata": {},
   "outputs": [
    {
     "data": {
      "text/plain": [
       "100"
      ]
     },
     "execution_count": 75,
     "metadata": {},
     "output_type": "execute_result"
    }
   ],
   "source": [
    "count_cert"
   ]
  },
  {
   "cell_type": "code",
   "execution_count": null,
   "metadata": {},
   "outputs": [],
   "source": []
  },
  {
   "cell_type": "code",
   "execution_count": null,
   "metadata": {},
   "outputs": [],
   "source": []
  },
  {
   "cell_type": "code",
   "execution_count": 77,
   "metadata": {},
   "outputs": [
    {
     "data": {
      "text/plain": [
       "0.9466666666666667"
      ]
     },
     "execution_count": 77,
     "metadata": {},
     "output_type": "execute_result"
    }
   ],
   "source": [
    "count_cert = 0\n",
    "for i in range(100):\n",
    "    class_pred = classificador2(x_new.iloc[i])\n",
    "    if class_pred == x_new.iloc[i].values[2]:\n",
    "        count_cert += 1\n",
    "count_cert"
   ]
  },
  {
   "cell_type": "code",
   "execution_count": null,
   "metadata": {},
   "outputs": [],
   "source": []
  },
  {
   "cell_type": "code",
   "execution_count": null,
   "metadata": {},
   "outputs": [],
   "source": [
    "\n"
   ]
  },
  {
   "cell_type": "code",
   "execution_count": null,
   "metadata": {},
   "outputs": [],
   "source": []
  },
  {
   "cell_type": "code",
   "execution_count": null,
   "metadata": {},
   "outputs": [],
   "source": []
  },
  {
   "cell_type": "code",
   "execution_count": null,
   "metadata": {},
   "outputs": [],
   "source": []
  },
  {
   "cell_type": "code",
   "execution_count": null,
   "metadata": {},
   "outputs": [],
   "source": []
  }
 ],
 "metadata": {
  "kernelspec": {
   "display_name": "Python 3",
   "language": "python",
   "name": "python3"
  },
  "language_info": {
   "codemirror_mode": {
    "name": "ipython",
    "version": 3
   },
   "file_extension": ".py",
   "mimetype": "text/x-python",
   "name": "python",
   "nbconvert_exporter": "python",
   "pygments_lexer": "ipython3",
   "version": "3.9.6"
  },
  "orig_nbformat": 4
 },
 "nbformat": 4,
 "nbformat_minor": 2
}
